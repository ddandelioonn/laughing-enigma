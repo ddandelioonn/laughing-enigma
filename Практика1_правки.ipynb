{
 "cells": [
  {
   "cell_type": "code",
   "execution_count": 3,
   "id": "1404def4",
   "metadata": {},
   "outputs": [
    {
     "name": "stdout",
     "output_type": "stream",
     "text": [
      "(8, 6, 7)\n"
     ]
    }
   ],
   "source": [
    "#1 исправленная\n",
    "x = [8,5,6,9,7,1]\n",
    "def nes(x, index):\n",
    "    if index >= len(x):\n",
    "        return False\n",
    "    return x[0], x[2], x[-2]\n",
    "print (nes(x, 0))"
   ]
  },
  {
   "cell_type": "code",
   "execution_count": 54,
   "id": "9d6ba321",
   "metadata": {},
   "outputs": [
    {
     "name": "stdout",
     "output_type": "stream",
     "text": [
      "625\n"
     ]
    }
   ],
   "source": [
    "#2 исправленная\n",
    "x = [1,2,3,4,5,6,7,8,9]\n",
    "N = 10\n",
    "def nes (x,N):\n",
    "    if N > len(x):\n",
    "        return -1\n",
    "    else:\n",
    "        return x[N]**N\n",
    "print(nes(x,4))"
   ]
  },
  {
   "cell_type": "code",
   "execution_count": 52,
   "id": "56e8cca1",
   "metadata": {},
   "outputs": [
    {
     "name": "stdout",
     "output_type": "stream",
     "text": [
      "4\n"
     ]
    }
   ],
   "source": [
    "#3 исправленная\n",
    "x = 'Сургут'\n",
    "n = 'у'\n",
    "def nes(x, n):\n",
    "    index = x.find(n)\n",
    "    if index != -1:\n",
    "        second_index = x.find(n, index+1)\n",
    "        if second_index != -1:\n",
    "            return second_index\n",
    "    return 'Символ не найден'\n",
    "print(nes('Сургут', 'у'))"
   ]
  },
  {
   "cell_type": "code",
   "execution_count": 6,
   "id": "8c324aac",
   "metadata": {},
   "outputs": [
    {
     "name": "stdout",
     "output_type": "stream",
     "text": [
      "4\n"
     ]
    }
   ],
   "source": [
    "#4 код четвертой задачи\n",
    "s = '1011110000'\n",
    "r = s[::-1]\n",
    "k=0\n",
    "for i in range (len(s)):\n",
    "    if r[i] == '0':\n",
    "        k=k+1\n",
    "    if r[i] == '1':\n",
    "        break\n",
    "print(k)"
   ]
  },
  {
   "cell_type": "code",
   "execution_count": 3,
   "id": "3ebfa994",
   "metadata": {},
   "outputs": [
    {
     "name": "stdout",
     "output_type": "stream",
     "text": [
      "Введите строку: Маша\n",
      "ашаМ\n"
     ]
    }
   ],
   "source": [
    "#5 код пятой задачи\n",
    "s = input(\"Введите строку: \")\n",
    "print(s[::-1])"
   ]
  },
  {
   "cell_type": "code",
   "execution_count": 2,
   "id": "3082c9d1",
   "metadata": {},
   "outputs": [
    {
     "name": "stdout",
     "output_type": "stream",
     "text": [
      "Входной массив состоит из одного и того же значения\n"
     ]
    }
   ],
   "source": [
    "#6 код шестой задачи\n",
    "s = [5, 5, 5, 5, 5] \n",
    "if len(set(s)) == 1:\n",
    "    print('Входной массив состоит из одного и того же значения')\n",
    "else:\n",
    "    print('Входной массив не состоит из одного и того же значения')"
   ]
  },
  {
   "cell_type": "code",
   "execution_count": 50,
   "id": "b5c41cab",
   "metadata": {
    "scrolled": true
   },
   "outputs": [
    {
     "name": "stdout",
     "output_type": "stream",
     "text": [
      "Введите пароль: Oh3773774686538578579753\n",
      "Пароль надежный\n"
     ]
    }
   ],
   "source": [
    "#7 код седьмой задачи\n",
    "import re\n",
    "def validate_password(password):\n",
    "    if len(password) < 16:\n",
    "        return False\n",
    "    if not re.search('[a-z]', password):\n",
    "        return False\n",
    "    if not re.search('[A-Z]', password):\n",
    "        return False\n",
    "    if not re.search('[0-9]', password):\n",
    "        return False\n",
    "    if not re.match('^[a-zA-Z0-9]+$', password):\n",
    "        return False\n",
    "    return True\n",
    "password = input(\"Введите пароль: \")\n",
    "if validate_password(password):\n",
    "    print(\"Пароль надежный\")\n",
    "else:\n",
    "    print(\"Пароль ненадежный, придумайте другой\")"
   ]
  },
  {
   "cell_type": "code",
   "execution_count": 2,
   "id": "e1a1cc1b",
   "metadata": {
    "scrolled": true
   },
   "outputs": [
    {
     "name": "stdout",
     "output_type": "stream",
     "text": [
      "[2, 4, 2, 23, 94, 3, 66, 3]\n"
     ]
    }
   ],
   "source": [
    "#8 код восьмой задачи\n",
    "l= [[2, 4, 2], [23], [94, 3, [66]], 3]  \n",
    "def flatten(x):\n",
    "    a = [] #создала пустой список\n",
    "    for i in x:\n",
    "        if isinstance(i, list): #происходит проверка с помощью isinstance, и если нам встречается вложенный список, с помощью extend элементы попадают в пустой список \"а\"\n",
    "            a.extend(flatten(i))\n",
    "        else:\n",
    "            a.append(i) #если элемент не является вложенным списком, он добавляется в список a с помощью append\n",
    "    return a\n",
    "print(flatten(l))"
   ]
  },
  {
   "cell_type": "code",
   "execution_count": 49,
   "id": "73f1d898",
   "metadata": {},
   "outputs": [
    {
     "name": "stdout",
     "output_type": "stream",
     "text": [
      "c\n"
     ]
    }
   ],
   "source": [
    "#9 код девятой задачи\n",
    "dict = {'a': 5, 'b': 2, 'c': 9, 'd': 4}\n",
    "def max_k(x):\n",
    "    a = -999999\n",
    "    k = 0\n",
    "    for i in x: #функция сравнивает каждое значение словаря со значением переменной \"а\"\n",
    "        if x[i] > a: #если значение элемента словаря больше, чем \"a\"\n",
    "            a = x[i] #тогда переменной \"а\" присваеватся это значение \n",
    "            k = i #переменной \"k\" присваивается ключ элементра\n",
    "    return k\n",
    "print(max_k(dict))"
   ]
  },
  {
   "cell_type": "code",
   "execution_count": 51,
   "id": "0b0919cc",
   "metadata": {
    "scrolled": true
   },
   "outputs": [
    {
     "name": "stdout",
     "output_type": "stream",
     "text": [
      "[4, 6, 4, 5, 5, 6]\n"
     ]
    }
   ],
   "source": [
    "#10 исправленная\n",
    "X = [1, 4, 3, 6, 4, 5, 5, 6]\n",
    "def not_unique(X):\n",
    "    a = []\n",
    "    for i in X:\n",
    "        if X.count(i) > 1 and i not in a:\n",
    "            a.append(i)\n",
    "    return [i for i in X if X.count(i) > 1]\n",
    "print(not_unique(X))"
   ]
  },
  {
   "cell_type": "code",
   "execution_count": null,
   "id": "26a17ea8",
   "metadata": {},
   "outputs": [],
   "source": []
  }
 ],
 "metadata": {
  "kernelspec": {
   "display_name": "Python 3 (ipykernel)",
   "language": "python",
   "name": "python3"
  },
  "language_info": {
   "codemirror_mode": {
    "name": "ipython",
    "version": 3
   },
   "file_extension": ".py",
   "mimetype": "text/x-python",
   "name": "python",
   "nbconvert_exporter": "python",
   "pygments_lexer": "ipython3",
   "version": "3.10.9"
  }
 },
 "nbformat": 4,
 "nbformat_minor": 5
}
