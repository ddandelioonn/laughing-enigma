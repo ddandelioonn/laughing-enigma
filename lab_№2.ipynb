{
 "cells": [
  {
   "cell_type": "code",
   "execution_count": 36,
   "id": "a3c4b13d",
   "metadata": {},
   "outputs": [
    {
     "name": "stdout",
     "output_type": "stream",
     "text": [
      "8\n"
     ]
    }
   ],
   "source": [
    "#1 код первой задачи\n",
    "\n",
    "def fib(n):\n",
    "    if n == 1 or n == 2:\n",
    "        return 1\n",
    "    return fib(n-1) + fib(n-2)\n",
    "\n",
    "print(fib(6))       "
   ]
  },
  {
   "cell_type": "code",
   "execution_count": 35,
   "id": "bde50f86",
   "metadata": {},
   "outputs": [
    {
     "name": "stdout",
     "output_type": "stream",
     "text": [
      "[1, 3]\n",
      "[7, 8, 9]\n"
     ]
    }
   ],
   "source": [
    "#2 код второй задачи\n",
    "\n",
    "l1 = [1,2,3,2,4,5,6]\n",
    "l2 = [4,5,6,2,7,8,9]\n",
    "\n",
    "def remove_common(l1, l2):\n",
    "    common = set(l1) & set(l2) #множество common содержит только те элементы, которые есть и в первом, и во втором списке\n",
    "    l1 = [i for i in l1 if i not in common] #новые списки содержат только те элементы, которые не входят в common\n",
    "    l2 = [i for i in l2 if i not in common]\n",
    "    print(l1)\n",
    "    print(l2)\n",
    "    \n",
    "remove_common(l1, l2)"
   ]
  },
  {
   "cell_type": "code",
   "execution_count": 6,
   "id": "bdac27ff",
   "metadata": {},
   "outputs": [
    {
     "name": "stdout",
     "output_type": "stream",
     "text": [
      "[3]\n"
     ]
    }
   ],
   "source": [
    "#3 код третьей задачи\n",
    "\n",
    "l = [1, 2, 3, 3, 3, 3, 3]\n",
    "count = 4\n",
    "\n",
    "def extract(l, count):\n",
    "    result = [] #создаем пустой список\n",
    "    for n in l:\n",
    "#проверяем, сколько раз повторяется каждое число с помощью count\n",
    "        if l.count(n) >= count and n not in result: #если число повторяется не менее count раз и еще не находится в result\n",
    "            result.append(n) #с помощью append добавляется в result\n",
    "    return result\n",
    "\n",
    "result = extract(l, count)\n",
    "print(result)"
   ]
  },
  {
   "cell_type": "code",
   "execution_count": 12,
   "id": "6bb5a930",
   "metadata": {},
   "outputs": [
    {
     "name": "stdout",
     "output_type": "stream",
     "text": [
      "[1, 9]\n"
     ]
    }
   ],
   "source": [
    "#4 код четвертой задачи\n",
    "\n",
    "lst = [1, [2, [3,4]]]\n",
    "\n",
    "def replace(lst):\n",
    "    for i in range(len(lst)):\n",
    "        if type(lst[i]) == list: #если элемент списка является просто числом, то он проходит мимо\n",
    "                                #если тип элемента (определяем с помощью type) в списке lst является вложенным списком\n",
    "            replace(lst[i]) #то функция вызывает саму себя и применяет те же действия к этому вложенному списку\n",
    "            lst[i] = sum(lst[i]) #и потом функция заменяет вложенный список на сумму его элементов\n",
    "    return lst\n",
    "\n",
    "result = replace(lst)\n",
    "print(result) "
   ]
  },
  {
   "cell_type": "code",
   "execution_count": 12,
   "id": "43079d14",
   "metadata": {},
   "outputs": [
    {
     "name": "stdout",
     "output_type": "stream",
     "text": [
      "[2, 4, 5, 6, 7]\n"
     ]
    }
   ],
   "source": [
    "#5 код пятой задачи\n",
    "\n",
    "lst = [1,2,3,2,4,5,6,7]\n",
    "\n",
    "def sequence(lst):\n",
    "    cur = [] \n",
    "    max = [] \n",
    "    for i in range(len(lst)):\n",
    "        if i == 0 or lst[i] <= lst[i - 1]: #если текущий элемент - первый, либо он меньше или равен предыдущему элементу в списке\n",
    "            cur = [lst[i]] #то начинается новая последовательность\n",
    "        else:\n",
    "            cur.append(lst[i]) #текущий элемент записывается в пустой список cur\n",
    "        if len(cur) > len(max): #если длина текущей последовательности больше длины записанной ранее в max\n",
    "            max = cur #то cur становится новым значением max\n",
    "    return max\n",
    "\n",
    "print(sequence(lst))"
   ]
  },
  {
   "cell_type": "code",
   "execution_count": 21,
   "id": "e98feb27",
   "metadata": {},
   "outputs": [
    {
     "name": "stdout",
     "output_type": "stream",
     "text": [
      "ЧмАф вСеХ В ЧаТиКе\n"
     ]
    }
   ],
   "source": [
    "#6 код шестой задачи\n",
    "\n",
    "string = \"чмаф всех в чатике\"\n",
    "\n",
    "def chmaf(new):\n",
    "    new = \"\"\n",
    "    for i in range(len(string)):\n",
    "        if i % 2 == 0: #проверка индекса на четность\n",
    "            new += string[i].upper() #делает буквы большими\n",
    "        else:\n",
    "            new += string[i].lower() #делает буквы маленькими \n",
    "    return new\n",
    "\n",
    "print(chmaf(string))"
   ]
  },
  {
   "cell_type": "code",
   "execution_count": 27,
   "id": "619340cc",
   "metadata": {},
   "outputs": [
    {
     "name": "stdout",
     "output_type": "stream",
     "text": [
      "  *\n",
      " ***\n",
      "*****\n",
      " ***\n",
      "  *\n"
     ]
    }
   ],
   "source": [
    "#7 код седьмой задачи\n",
    "\n",
    "width = 5\n",
    "height = 5\n",
    "symbol = '*'\n",
    "\n",
    "def rhomb(width, height, symbol):\n",
    "    for i in range(1, height+1): #цикл идет по строкам, от 1 до заданной высоты\n",
    "        # if и else делят строки на две половины\n",
    "        if i <= height//2 + 1: #в первой половине символы выводятся парами, увеличивая кол-во символов в каждой паре\n",
    "            for j in range(height//2 + 1 - i): #отвечает за количество пробелов перед символами\n",
    "                print(\" \", end = \"\")\n",
    "            for j in range(2*i-1): #отвечает за количество символов в каждой строке\n",
    "                print(symbol, end = \"\") \n",
    "            print()\n",
    "        else: #во второй наоборот - уменьшается\n",
    "            for j in range(i - height//2 - 1): #отвечает за количество пробелов перед символами\n",
    "                print(\" \", end = \"\")\n",
    "            for j in range((height-i+1)*2-1): #отвечает за количество символов в каждой строке\n",
    "                print(symbol, end = \"\")\n",
    "            print()\n",
    "\n",
    "print_pattern(width, height, symbol)"
   ]
  },
  {
   "cell_type": "code",
   "execution_count": 24,
   "id": "2e014bf5",
   "metadata": {},
   "outputs": [
    {
     "name": "stdout",
     "output_type": "stream",
     "text": [
      "1  1  1  1  \n",
      "1  2  3  4  \n",
      "1  3  6  10  \n",
      "1  4  10  20  \n"
     ]
    }
   ],
   "source": [
    "#8 код восьмой задачи\n",
    "\n",
    "n = 4\n",
    "\n",
    "def create_matrix(n):\n",
    "    matrix = [[1] * n for i in range(n)] # заполняем матрицу единицами\n",
    "    for i in range(1, n):\n",
    "        for j in range(1, n):\n",
    "            matrix[i][j] = matrix[i-1][j] + matrix[i][j-1] # вычисляем значение каждой ячейки\n",
    "    return matrix\n",
    "\n",
    "def print_matrix(matrix):\n",
    "    for row in matrix:\n",
    "        for element in row:\n",
    "            print(element, end = \"  \") \n",
    "        print()\n",
    "\n",
    "matrix = create_matrix(n)\n",
    "print_matrix(matrix)"
   ]
  },
  {
   "cell_type": "code",
   "execution_count": 22,
   "id": "8c80f213",
   "metadata": {},
   "outputs": [
    {
     "name": "stdout",
     "output_type": "stream",
     "text": [
      "40\n"
     ]
    }
   ],
   "source": [
    "#9 код девятой задачи\n",
    "\n",
    "str = \"2кота съели5 сосисок и выпили 33 литра молока\"\n",
    "\n",
    "def sum_n(str):\n",
    "    numbers = [] #создаем пустой список, который будет хранить числа из str\n",
    "    current_number = '' #создаем переменную, которая будет хранить текущее число из str\n",
    "    for char in str: #пробегаем по каждому символу char в строке str\n",
    "        if char.isdigit(): #проверяем, является ли char цифрой\n",
    "            current_number += char #если да, то добавляем его к текущему числу \n",
    "        elif current_number: #если нет, то проверяем есть ли какая-то цифра в current_number\n",
    "            numbers.append(int(current_number))  #если есть, то преобразуем current_number в целое число и добавляем в numbers\n",
    "            current_number = '' #после этого строка очищается\n",
    "    if current_number: #после завершения цикла проверяем, есть ли еще какое-то число в current_number\n",
    "        numbers.append(int(current_number)) #если есть, то преобразуем в целое и добавляем в numbers\n",
    "    return sum(numbers)\n",
    "\n",
    "print(sum_n(str))"
   ]
  },
  {
   "cell_type": "code",
   "execution_count": 23,
   "id": "72f335c4",
   "metadata": {},
   "outputs": [
    {
     "name": "stdout",
     "output_type": "stream",
     "text": [
      "40\n"
     ]
    }
   ],
   "source": [
    "#10 код десятой задачи\n",
    "\n",
    "str = \"2кота съели5 сосисок и выпили 33 литра молока\"\n",
    "\n",
    "def sum_n(str):\n",
    "    total_sum = 0 #суммарное значение чисел в строке\n",
    "    current_number = \"\" #текущее число, которое ищем в строке\n",
    "    for c in str:\n",
    "        if c.isdigit(): #проверяем, является ли c цифрой\n",
    "            current_number += c #если да, то добавляем его к текущему числу \n",
    "        elif current_number: #если нет и current_number не пустое\n",
    "            num_sum = 0\n",
    "            for digit in current_number:\n",
    "                num_sum = num_sum * 10 + ord(digit) - ord('0') #переводим значение в число\n",
    "            total_sum += num_sum #num_sum добавляем к total_sum\n",
    "            current_number = \"\" #очищается\n",
    "    if current_number: #проверяем, если в current_number остались цифры, то также переводим значение в число и добавляем к total_sum\n",
    "        num_sum = 0\n",
    "        for digit in current_number:\n",
    "            num_sum = num_sum * 10 + ord(digit) - ord('0')\n",
    "        total_sum += num_sum\n",
    "    return total_sum\n",
    "\n",
    "print(sum_n(str))"
   ]
  },
  {
   "cell_type": "code",
   "execution_count": null,
   "id": "4df750e8",
   "metadata": {},
   "outputs": [],
   "source": []
  }
 ],
 "metadata": {
  "kernelspec": {
   "display_name": "Python 3 (ipykernel)",
   "language": "python",
   "name": "python3"
  },
  "language_info": {
   "codemirror_mode": {
    "name": "ipython",
    "version": 3
   },
   "file_extension": ".py",
   "mimetype": "text/x-python",
   "name": "python",
   "nbconvert_exporter": "python",
   "pygments_lexer": "ipython3",
   "version": "3.10.9"
  }
 },
 "nbformat": 4,
 "nbformat_minor": 5
}
