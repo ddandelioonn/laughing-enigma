{
 "cells": [
  {
   "cell_type": "code",
   "execution_count": 16,
   "id": "fda90e11",
   "metadata": {},
   "outputs": [
    {
     "name": "stdout",
     "output_type": "stream",
     "text": [
      "[[1 4 7]\n",
      " [2 5 8]\n",
      " [3 6 9]]\n"
     ]
    }
   ],
   "source": [
    "#1 код первой задачи\n",
    "\n",
    "matrix = [[1,2,3], [4,5,6], [7,8,9]]\n",
    "\n",
    "def transpose_matrix(matrix): #принимаем на вход матрицу в виде вложенных списков\n",
    "    import numpy as np #импортируем библиотеку numpy и создаем объект np\n",
    "    arr_matrix = np.array(matrix) #преобразуем матрицу в масссив numpy\n",
    "    arr_transpose = arr_matrix.transpose() #транспонируем массив(меняем местами строки и столбцы)\n",
    "    \n",
    "    return arr_transpose\n",
    "\n",
    "print(transpose_matrix(matrix))"
   ]
  },
  {
   "cell_type": "code",
   "execution_count": 27,
   "id": "1a7c4034",
   "metadata": {},
   "outputs": [
    {
     "name": "stdout",
     "output_type": "stream",
     "text": [
      "{('Игорь', 'Бероев'): [('Муся', 7), ('Изольда', 2)], ('Елена', 'Иванова'): [('Боба', 3)]}\n"
     ]
    }
   ],
   "source": [
    "#2 код второй задачи\n",
    "\n",
    "data = [('Муся', 7, 'Игорь', 'Бероев'), ('Изольда', 2, 'Игорь', 'Бероев'), ('Боба', 3, 'Елена', 'Иванова')]\n",
    "\n",
    "def optimize_data(animals): #принимаем список кортежей\n",
    "    \n",
    "    dict = {} #создаем словарь, который будет хранить информацию \n",
    "    \n",
    "    for animal in animals:\n",
    "        name, age, owner_name, owner_surname = animal #для каждого животного в списке извлекаем его имя, возраст, имя и фамилию хозяина\n",
    "        if (owner_name, owner_surname) not in dict: #если имя и фамилия хозяина еще не встречались в словаре\n",
    "            dict[(owner_name, owner_surname)] = [] #то создаем пустой список для данных об этом хозяине\n",
    "        dict[(owner_name, owner_surname)].append((name, age)) #добавляем данные о животном в список данных об этом хозяине\n",
    "    \n",
    "    return dict\n",
    "\n",
    "print(optimize_data(data))"
   ]
  },
  {
   "cell_type": "code",
   "execution_count": 22,
   "id": "92863710",
   "metadata": {},
   "outputs": [
    {
     "name": "stdout",
     "output_type": "stream",
     "text": [
      "меня\n"
     ]
    }
   ],
   "source": [
    "#3 код третьей задачи\n",
    "\n",
    "import re #импортируем модуль re для работы с регулярными выражениями\n",
    "\n",
    "def rarest(string): \n",
    "    string = re.sub(r'[^\\w\\s]', '', string.lower()) #приводим строку к нижнему регистру и удаляем знаки препинания\n",
    "    #где ^ - \"не\", \\w - любой букв и цифр символ, и _, \\s - любой пробельный символ\n",
    "    words = {} #создаем пустой словарь\n",
    "    for word in string.split(): #в строке ищем слова с помощью split, который делит строку по пробелам и создает список слов\n",
    "        if word in words: #если слово из списка есть в словаре\n",
    "            words[word] += 1 #то к его значению добавлаяем 1\n",
    "        else: #если нет\n",
    "            words[word] = 1 #то слово добавляем в словарь со значением 1\n",
    "    min_count = min(words.values()) #находим наименьшее количество повторений \n",
    "    rarest_words = [] #создаем пустой список, который будет хранить редкие слова\n",
    "    for word, count in words.items(): #для каждого слова и его кол-ва повторений проверяем\n",
    "        #равно ли кол-во повторений наименьшему кол-ву\n",
    "        if count == min_count: #если да\n",
    "            rarest_words.append(word) #то слово добавляем в список rarest_words\n",
    "    return min(rarest_words) \n",
    "\n",
    "string = 'у меня есть кот кот, есть собака, у тебя есть попугай'\n",
    "print(rarest(string))"
   ]
  },
  {
   "cell_type": "code",
   "execution_count": 133,
   "id": "9a324379",
   "metadata": {},
   "outputs": [
    {
     "name": "stdout",
     "output_type": "stream",
     "text": [
      "а\n"
     ]
    }
   ],
   "source": [
    "#4 код четвертой задачи\n",
    "\n",
    "import re #импортируем модуль re для работы с регулярными выражениями\n",
    "\n",
    "def mostly(string):\n",
    "    string = re.sub(r'[^\\w\\s]', '', string.lower()) #приводим строку к нижнему регистру и удаляем знаки препинания\n",
    "    letters = {} #создаем пустой словарь\n",
    "    for letter in string: #перебираем все символы в строке и проверяем\n",
    "        if letter.isalpha(): #является ли символ буквой\n",
    "            if letter in letters: #если да, то проверяем, есть ли символ в словаре\n",
    "                letters[letter] += 1 #если есть, то к его значению добавляем 1\n",
    "            else: \n",
    "                letters[letter] = 1 #если нет, то символ добавляем в словарь со значением 1\n",
    "    max_count = max(letters.values()) #находим максимальное значение из всех значений словаря\n",
    "    max_letters = [] #создаем пустой список, который будет хранить буквы с максимальным значением\n",
    "    for letter, count in letters.items(): #перебираем все буквы и значения \n",
    "        if count == max_count: #если значение равно максимальному значению, найденному на предыдущем этапе\n",
    "            max_letters.append(letter) #добавляем  в список\n",
    "    return min(max_letters) #возвращаем букву с наименьшим алфавитным значением\n",
    "\n",
    "string = 'Я люблю ЧАК-чАк'\n",
    "print(mostly(string))"
   ]
  },
  {
   "cell_type": "code",
   "execution_count": 134,
   "id": "fd003d50",
   "metadata": {},
   "outputs": [
    {
     "name": "stdout",
     "output_type": "stream",
     "text": [
      "True\n"
     ]
    }
   ],
   "source": [
    "#5 код пятой задачи\n",
    "\n",
    "string = 'ежу хуже'\n",
    "\n",
    "def palindrome(string):\n",
    "    string = string.replace(' ', '') #удаляем все пробелы и оставляем только буквенные символы\n",
    "    #проверяем длину строки\n",
    "    if len(string) <= 1: #если она <= 1, то строка является палиндромом\n",
    "        return True \n",
    "    else:\n",
    "        if string[0] == string[-1]: #проверяем на равенство первый и последний символ строки, если они совпадают\n",
    "            return palindrome(string[1:-1]) #то из строки удаляем первый и последний символы, и функция вызывает себя с новой строкой\n",
    "        else:\n",
    "            return False\n",
    "\n",
    "print(palindrome(string))"
   ]
  },
  {
   "cell_type": "code",
   "execution_count": 135,
   "id": "33763792",
   "metadata": {},
   "outputs": [
    {
     "name": "stdout",
     "output_type": "stream",
     "text": [
      "[1, 1, 1, 3, 3, 3, 2, 2, 4, 5]\n"
     ]
    }
   ],
   "source": [
    "#6 код шестой задачи\n",
    "\n",
    "array = [1, 2, 3, 4, 1, 3, 3, 2, 1, 5]\n",
    "\n",
    "def sorting(array):\n",
    "    freq = {} #создаем пустой словарь\n",
    "    for i in array: #проходим по каждому элементу из списка\n",
    "        if i in freq: #проверяем, есть ли он в словаре\n",
    "            freq[i] += 1 #если да, то увеличиваем значение на 1\n",
    "        else:\n",
    "            freq[i] = 1 #если нет, добавляем его как новый ключ со значением 1\n",
    "    #создаем новый список и заполняем отсортированными элементами (сначала самые часто встречающиеся, затем - реже встр)\n",
    "    #если у двух элементов одинаковое кол-во появлений, то они сортируются по их первому появлению\n",
    "    sorted_array = sorted(array, key=lambda x: (-freq[x], array.index(x))) \n",
    "    return sorted_array\n",
    "\n",
    "print(sorting(array))"
   ]
  },
  {
   "cell_type": "code",
   "execution_count": 136,
   "id": "f704eae5",
   "metadata": {},
   "outputs": [
    {
     "name": "stdout",
     "output_type": "stream",
     "text": [
      "True\n"
     ]
    }
   ],
   "source": [
    "#7 код седьмой задачи\n",
    "\n",
    "s = 'мне 22 года меня зовут 2 Маша'\n",
    "\n",
    "def sequence(s):\n",
    "    words = s.split() #разбиваем строку на слова и записываем эти слова в words\n",
    "    for i in range(len(words) - 2): #перебираем все возможные комбинации из трех слов\n",
    "        #проверяем, состоят ли текущее слово и два следующих за ним слова только из букв\n",
    "        if words[i].isalpha() and words[i+1].isalpha() and words[i+2].isalpha(): \n",
    "            return True\n",
    "    return False\n",
    "\n",
    "print(sequence(s))"
   ]
  },
  {
   "cell_type": "code",
   "execution_count": 137,
   "id": "8cf828a9",
   "metadata": {},
   "outputs": [
    {
     "name": "stdout",
     "output_type": "stream",
     "text": [
      "11\n"
     ]
    }
   ],
   "source": [
    "#8 код восьмой задачи\n",
    "\n",
    "s = 'ообббббббббббрррааааааз'\n",
    "\n",
    "def max_len(s):\n",
    "    maxi = 0 #максимальная длина\n",
    "    curr = 1 #текущая длина\n",
    "    for i in range(1, len(s)): #проходим по каждому элементу строки, начиная со второго\n",
    "        if s[i] == s[i-1]: #проверяем, равен ли текущий элемент предыдущему\n",
    "            curr += 1 #если да, значит эти символы образуют последовательность, для этого увеличиваем значение переменной на 1\n",
    "        else: #если нет, значит текущая последовательность закончилась\n",
    "            maxi = max(maxi, curr) #находим максимальное значение между maxi и curr \n",
    "            curr = 1 #присваиваем значение 1, чтобы начать считать длину новой последовательности\n",
    "    return max(maxi, curr)\n",
    "\n",
    "print(max_len(s))"
   ]
  },
  {
   "cell_type": "code",
   "execution_count": 138,
   "id": "8ac4ddc0",
   "metadata": {},
   "outputs": [
    {
     "name": "stdout",
     "output_type": "stream",
     "text": [
      "25.0\n"
     ]
    }
   ],
   "source": [
    "#9 код девятой задачи\n",
    "\n",
    "ex = '125/5'\n",
    "\n",
    "def calculate(ex):\n",
    "    return eval(ex)\n",
    "\n",
    "print(calculate(ex))"
   ]
  },
  {
   "cell_type": "code",
   "execution_count": 139,
   "id": "a5cb0b67",
   "metadata": {},
   "outputs": [
    {
     "name": "stdout",
     "output_type": "stream",
     "text": [
      "{'a': 5, 'b': 8, 'c': 3, 'd': 5, 'e': 7}\n"
     ]
    }
   ],
   "source": [
    "#10 код десятой задачи\n",
    "\n",
    "lst = [{'a': 1, 'b': 2, 'c': 3}, {'a': 4, 'd': 5}, {'b': 6, 'e': 7}]\n",
    "\n",
    "def sum_dicts(lst):\n",
    "    result = {} #создаем пустой словарь, который будет хранить результаты вычислений\n",
    "    for d in lst: #проходим по каждому словарю в списке\n",
    "        for key, value in d.items(): #проходим по каждой паре ключ-значения в текущем словаре\n",
    "            if key in result: #проверяем, содержится ли ключ в словаре result\n",
    "                result[key] += value #если да, то его значение увеличивается на значение текущего ключа\n",
    "            else:\n",
    "                result[key] = value #если нет, то в него записывается значение ключа\n",
    "    return result\n",
    "\n",
    "print(sum_dicts(lst))"
   ]
  }
 ],
 "metadata": {
  "kernelspec": {
   "display_name": "Python 3 (ipykernel)",
   "language": "python",
   "name": "python3"
  },
  "language_info": {
   "codemirror_mode": {
    "name": "ipython",
    "version": 3
   },
   "file_extension": ".py",
   "mimetype": "text/x-python",
   "name": "python",
   "nbconvert_exporter": "python",
   "pygments_lexer": "ipython3",
   "version": "3.10.9"
  }
 },
 "nbformat": 4,
 "nbformat_minor": 5
}
